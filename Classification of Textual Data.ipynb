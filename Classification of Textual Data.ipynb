{
 "cells": [
  {
   "cell_type": "code",
   "execution_count": 650,
   "id": "southwest-surprise",
   "metadata": {},
   "outputs": [],
   "source": [
    "#%matplotlib inline\n",
    "#%matplotlib notebook\n",
    "import json\n",
    "import numpy as np\n",
    "import pandas as pd\n",
    "import seaborn as sns\n",
    "import matplotlib.pyplot as plt\n",
    "import numpy as np\n",
    "from IPython.core.debugger import set_trace\n",
    "from time import time \n",
    "from mlxtend.plotting import plot_decision_regions\n",
    "from sklearn.datasets import make_moons\n",
    "from sklearn.utils import shuffle\n",
    "from sklearn.preprocessing import Binarizer\n",
    "from sklearn.model_selection import cross_val_predict\n",
    "from sklearn.metrics import roc_curve\n",
    "from sklearn.model_selection import train_test_split, cross_val_score\n",
    "from sklearn.feature_extraction.text import TfidfTransformer\n",
    "from sklearn.datasets import load_svmlight_file\n",
    "from sklearn.preprocessing import LabelBinarizer\n",
    "from sklearn.datasets import load_svmlight_files\n",
    "from sklearn.metrics import classification_report,accuracy_score\n",
    "from sklearn.linear_model import LogisticRegression\n",
    "from sklearn.metrics import roc_curve, roc_auc_score\n",
    "import math\n",
    "from scipy import stats\n",
    "from sklearn.metrics import r2_score, mean_squared_error\n",
    "from tqdm import tqdm\n",
    "import os\n",
    "from nltk.stem.porter import PorterStemmer\n",
    "from nltk.stem import WordNetLemmatizer\n",
    "from sklearn.feature_extraction.text import TfidfVectorizer\n",
    "from sklearn.feature_extraction.text import CountVectorizer\n",
    "\n",
    "\n",
    "import warnings\n",
    "warnings.filterwarnings('ignore')\n"
   ]
  },
  {
   "cell_type": "code",
   "execution_count": 651,
   "id": "grand-alcohol",
   "metadata": {},
   "outputs": [],
   "source": [
    "class sentimental_analysis:\n",
    "    \n",
    "    def load_files(self, files):\n",
    "        return load_svmlight_files(files, n_features=None, dtype=None)\n",
    "\n",
    "    # Calculating Tf-Idf for training and testing\n",
    "    def tfidf(self, training_data, testing_data):\n",
    "        tf_transformer = TfidfTransformer()\n",
    "\n",
    "        print(\"Training_data TF-IDF\")\n",
    "        #  It computes the TF for each review, the IDF using each review, and finally the TF-IDF for each review\n",
    "        training_data_tfidf = tf_transformer.fit_transform(training_data)\n",
    "        print(training_data_tfidf.shape)\n",
    "\n",
    "        print(\"Testing_data TF-IDF\")\n",
    "        # .transform on the testing data which computes the TF for each review, \n",
    "        # then the TF-IDF for each review using the IDF from the training data \n",
    "        testing_data_tfidf = tf_transformer.transform(testing_data)\n",
    "        print(testing_data_tfidf.shape)\n",
    "\n",
    "        return [training_data_tfidf,testing_data_tfidf]\n",
    "\n",
    "    # Binerize target data\n",
    "\n",
    "    # Converting target into binary\n",
    "    def binerize (self, raw_target):    \n",
    "        binerize_target = []\n",
    "        for i in range(len(raw_target)):\n",
    "            if raw_target[i] > 5:\n",
    "                binerize_target.append(1) # Positive\n",
    "            else:\n",
    "                binerize_target.append(0) # Negative\n",
    "        return binerize_target"
   ]
  },
  {
   "cell_type": "code",
   "execution_count": 652,
   "id": "taken-integer",
   "metadata": {
    "scrolled": true
   },
   "outputs": [],
   "source": [
    "# Store path in array for training and testing files\n",
    "files = [\"./aclImdb/train/labeledBow.feat\",\"./aclImdb/test/labeledBow.feat\"]\n",
    "\n",
    "# Object for sentiment_analysis\n",
    "sa = sentimental_analysis()\n",
    "\n",
    "# Load data for training_data, training_target and testing_data, testing_target \n",
    "training_data, raw_training_target, testing_data, raw_testing_target = sa.load_files(files)\n"
   ]
  },
  {
   "cell_type": "code",
   "execution_count": 653,
   "id": "instrumental-separate",
   "metadata": {},
   "outputs": [],
   "source": [
    "training_label = np.array(sa.binerize(raw_training_target))\n",
    "testing_label = np.array(sa.binerize(raw_testing_target))"
   ]
  },
  {
   "cell_type": "code",
   "execution_count": 654,
   "id": "decent-lingerie",
   "metadata": {},
   "outputs": [],
   "source": [
    "class logisticRegression:\n",
    "    \n",
    "    # defining parameters such as learning rate, number ot iterations, whether to include intercept, \n",
    "    # and verbose which says whether to print anything or not like, loss etc.\n",
    "    def __init__(self, learning_rate=0.01, num_iterations=1000, fit_intercept=True, verbose=False):\n",
    "        self.learning_rate = learning_rate\n",
    "        self.num_iterations = num_iterations\n",
    "        self.fit_intercept = fit_intercept\n",
    "        self.verbose = verbose\n",
    "        \n",
    "    \n",
    "    # function to define the Incercept value.\n",
    "    def __b_intercept(self, X):\n",
    "        # initially we set it as all 1's\n",
    "        intercept = np.ones((X.shape[0], 1))\n",
    "        # then we concatinate them to the value of X, we don't add we just append them at the end.\n",
    "        return np.concatenate((intercept, X), axis=1)\n",
    "    \n",
    "    def __sigmoid_function(self, z):\n",
    "        # this is our actual sigmoid function which predicts our yp\n",
    "        return 1 / (1 + np.exp(-z))\n",
    "    \n",
    "    def __loss(self, yp, y):\n",
    "        # this is the loss function which we use to minimize the error of our model\n",
    "        return (-y * np.log(yp) - (1 - y) * np.log(1 - yp)).mean()\n",
    "\n",
    "    def getW(self):\n",
    "        return self.W\n",
    "\n",
    "    # this is the function which trains our model.\n",
    "    def fit(self, X, y):\n",
    "        losses_train = np.zeros(self.num_iterations)\n",
    "\n",
    "        # as said if we want our intercept term to be added we use fit_intercept=True\n",
    "        if self.fit_intercept:\n",
    "            X = self.__b_intercept(X)\n",
    "        \n",
    "        # weights initialization of our Normal Vector, initially we set it to 0, then we learn it eventually\n",
    "        self.W = np.zeros(X.shape[1])\n",
    "        \n",
    "        # this for loop runs for the number of iterations provided\n",
    "        for i in range(self.num_iterations):\n",
    "            \n",
    "            # this is our W * Xi\n",
    "            z = np.dot(X, self.W)\n",
    "            \n",
    "            # this is where we predict the values of Y based on W and Xi\n",
    "            yp = self.__sigmoid_function(z)\n",
    "            \n",
    "            # this is where the gradient is calculated form the error generated by our model\n",
    "            gradient = np.dot(X.T, (yp - y)) / y.size\n",
    "            \n",
    "            # this is where we update our values of W, so that we can use the new values for the next iteration\n",
    "            self.W -= self.learning_rate * gradient\n",
    "            \n",
    "            # this is our new W * Xi\n",
    "            z = np.dot(X, self.W)\n",
    "            yp = self.__sigmoid_function(z)\n",
    "            \n",
    "            # this is where the loss is calculated\n",
    "            loss = self.__loss(yp, y)\n",
    "            losses_train[i] = loss\n",
    "            # as mentioned above if we want to print somehting we use verbose, so if verbose=True then our loss get printed\n",
    "            if(self.verbose ==True and i % 10000 == 0):\n",
    "                print(f'loss: {loss} \\t')\n",
    "\n",
    "        return losses_train\n",
    "    \n",
    "    # this is where we predict the probability values based on out generated W values out of all those iterations.\n",
    "    def predict_prob(self, X):\n",
    "        # as said if we want our intercept term to be added we use fit_intercept=True\n",
    "        if self.fit_intercept:\n",
    "            X = self.__b_intercept(X)\n",
    "        \n",
    "        # this is the final prediction that is generated based on the values learned.\n",
    "        return self.__sigmoid_function(np.dot(X, self.W))\n",
    "    \n",
    "    # this is where we predict the actual values 0 or 1 using round. anything less than 0.5 = 0 or more than 0.5 is 1\n",
    "    def predict(self, X):\n",
    "        return self.predict_prob(X).round()\n",
    "        "
   ]
  },
  {
   "cell_type": "markdown",
   "id": "adjacent-drunk",
   "metadata": {},
   "source": [
    "### Z-Score"
   ]
  },
  {
   "cell_type": "code",
   "execution_count": 655,
   "id": "southeast-alcohol",
   "metadata": {},
   "outputs": [
    {
     "name": "stdout",
     "output_type": "stream",
     "text": [
      "179\n"
     ]
    },
    {
     "name": "stderr",
     "output_type": "stream",
     "text": [
      "[nltk_data] Downloading package stopwords to C:\\Users\\shima\n",
      "[nltk_data]     mihannezhad\\AppData\\Roaming\\nltk_data...\n",
      "[nltk_data]   Package stopwords is already up-to-date!\n"
     ]
    }
   ],
   "source": [
    "import nltk\n",
    "from nltk.corpus import stopwords\n",
    "\n",
    "nltk.download('stopwords')\n",
    "stops = set(stopwords.words('english'))\n",
    "print(len(stops))"
   ]
  },
  {
   "cell_type": "code",
   "execution_count": 656,
   "id": "headed-rental",
   "metadata": {},
   "outputs": [
    {
     "data": {
      "text/html": [
       "<div>\n",
       "<style scoped>\n",
       "    .dataframe tbody tr th:only-of-type {\n",
       "        vertical-align: middle;\n",
       "    }\n",
       "\n",
       "    .dataframe tbody tr th {\n",
       "        vertical-align: top;\n",
       "    }\n",
       "\n",
       "    .dataframe thead th {\n",
       "        text-align: right;\n",
       "    }\n",
       "</style>\n",
       "<table border=\"1\" class=\"dataframe\">\n",
       "  <thead>\n",
       "    <tr style=\"text-align: right;\">\n",
       "      <th></th>\n",
       "      <th>words</th>\n",
       "    </tr>\n",
       "  </thead>\n",
       "  <tbody>\n",
       "    <tr>\n",
       "      <th>0</th>\n",
       "      <td>the</td>\n",
       "    </tr>\n",
       "    <tr>\n",
       "      <th>1</th>\n",
       "      <td>and</td>\n",
       "    </tr>\n",
       "    <tr>\n",
       "      <th>2</th>\n",
       "      <td>a</td>\n",
       "    </tr>\n",
       "    <tr>\n",
       "      <th>3</th>\n",
       "      <td>of</td>\n",
       "    </tr>\n",
       "    <tr>\n",
       "      <th>4</th>\n",
       "      <td>to</td>\n",
       "    </tr>\n",
       "    <tr>\n",
       "      <th>...</th>\n",
       "      <td>...</td>\n",
       "    </tr>\n",
       "    <tr>\n",
       "      <th>89522</th>\n",
       "      <td>copywrite</td>\n",
       "    </tr>\n",
       "    <tr>\n",
       "      <th>89523</th>\n",
       "      <td>artbox</td>\n",
       "    </tr>\n",
       "    <tr>\n",
       "      <th>89524</th>\n",
       "      <td>kinky-sex</td>\n",
       "    </tr>\n",
       "    <tr>\n",
       "      <th>89525</th>\n",
       "      <td>urrrghhh</td>\n",
       "    </tr>\n",
       "    <tr>\n",
       "      <th>89526</th>\n",
       "      <td>investigator-like</td>\n",
       "    </tr>\n",
       "  </tbody>\n",
       "</table>\n",
       "<p>89527 rows × 1 columns</p>\n",
       "</div>"
      ],
      "text/plain": [
       "                   words\n",
       "0                    the\n",
       "1                    and\n",
       "2                      a\n",
       "3                     of\n",
       "4                     to\n",
       "...                  ...\n",
       "89522          copywrite\n",
       "89523             artbox\n",
       "89524          kinky-sex\n",
       "89525           urrrghhh\n",
       "89526  investigator-like\n",
       "\n",
       "[89527 rows x 1 columns]"
      ]
     },
     "execution_count": 656,
     "metadata": {},
     "output_type": "execute_result"
    }
   ],
   "source": [
    "words_df = pd.read_csv(\"aclImdb\\\\imdb.vocab\", header=None, names=['words'],dtype=str)\n",
    "words_df"
   ]
  },
  {
   "cell_type": "code",
   "execution_count": 657,
   "id": "entitled-colorado",
   "metadata": {},
   "outputs": [
    {
     "data": {
      "text/html": [
       "<div>\n",
       "<style scoped>\n",
       "    .dataframe tbody tr th:only-of-type {\n",
       "        vertical-align: middle;\n",
       "    }\n",
       "\n",
       "    .dataframe tbody tr th {\n",
       "        vertical-align: top;\n",
       "    }\n",
       "\n",
       "    .dataframe thead th {\n",
       "        text-align: right;\n",
       "    }\n",
       "</style>\n",
       "<table border=\"1\" class=\"dataframe\">\n",
       "  <thead>\n",
       "    <tr style=\"text-align: right;\">\n",
       "      <th></th>\n",
       "      <th>words</th>\n",
       "    </tr>\n",
       "  </thead>\n",
       "  <tbody>\n",
       "    <tr>\n",
       "      <th>15</th>\n",
       "      <td>movie</td>\n",
       "    </tr>\n",
       "    <tr>\n",
       "      <th>17</th>\n",
       "      <td>film</td>\n",
       "    </tr>\n",
       "    <tr>\n",
       "      <th>26</th>\n",
       "      <td>one</td>\n",
       "    </tr>\n",
       "    <tr>\n",
       "      <th>27</th>\n",
       "      <td>!</td>\n",
       "    </tr>\n",
       "    <tr>\n",
       "      <th>36</th>\n",
       "      <td>like</td>\n",
       "    </tr>\n",
       "    <tr>\n",
       "      <th>...</th>\n",
       "      <td>...</td>\n",
       "    </tr>\n",
       "    <tr>\n",
       "      <th>89522</th>\n",
       "      <td>copywrite</td>\n",
       "    </tr>\n",
       "    <tr>\n",
       "      <th>89523</th>\n",
       "      <td>artbox</td>\n",
       "    </tr>\n",
       "    <tr>\n",
       "      <th>89524</th>\n",
       "      <td>kinky-sex</td>\n",
       "    </tr>\n",
       "    <tr>\n",
       "      <th>89525</th>\n",
       "      <td>urrrghhh</td>\n",
       "    </tr>\n",
       "    <tr>\n",
       "      <th>89526</th>\n",
       "      <td>investigator-like</td>\n",
       "    </tr>\n",
       "  </tbody>\n",
       "</table>\n",
       "<p>89356 rows × 1 columns</p>\n",
       "</div>"
      ],
      "text/plain": [
       "                   words\n",
       "15                 movie\n",
       "17                  film\n",
       "26                   one\n",
       "27                     !\n",
       "36                  like\n",
       "...                  ...\n",
       "89522          copywrite\n",
       "89523             artbox\n",
       "89524          kinky-sex\n",
       "89525           urrrghhh\n",
       "89526  investigator-like\n",
       "\n",
       "[89356 rows x 1 columns]"
      ]
     },
     "execution_count": 657,
     "metadata": {},
     "output_type": "execute_result"
    }
   ],
   "source": [
    "df_NOindx=words_df[words_df.words.isin(stops)!=True]\n",
    "df_NOindx"
   ]
  },
  {
   "cell_type": "code",
   "execution_count": 658,
   "id": "asian-darkness",
   "metadata": {},
   "outputs": [
    {
     "data": {
      "text/plain": [
       "(25000, 89527)"
      ]
     },
     "execution_count": 658,
     "metadata": {},
     "output_type": "execute_result"
    }
   ],
   "source": [
    "#Create Matrix\n",
    "import numpy as np\n",
    "from scipy.sparse import csr_matrix\n",
    "\n",
    "tmp=0\n",
    "y_train=[]\n",
    "with open('aclImdb\\\\train\\\\labeledBow.feat') as f:\n",
    "    lines=f.readlines()   # do not process the header line\n",
    "    train_mtrx=csr_matrix((len(lines), len(words_df.index)), dtype=np.uint8).toarray()\n",
    "    for line in lines:\n",
    "      items=line.split(\" \")\n",
    "      y_train.append(int(items[0]))\n",
    "      for j in items[1:]:\n",
    "        word,cnt=j.split(\":\")\n",
    "        #print(type(word),cnt)\n",
    "        train_mtrx[int(tmp),int(word)]=cnt\n",
    "      tmp=tmp+1\n",
    "\n",
    "train_mtrx.shape"
   ]
  },
  {
   "cell_type": "code",
   "execution_count": 659,
   "id": "painful-sessions",
   "metadata": {},
   "outputs": [
    {
     "data": {
      "text/plain": [
       "(25000, 89527)"
      ]
     },
     "execution_count": 659,
     "metadata": {},
     "output_type": "execute_result"
    }
   ],
   "source": [
    "tmp=0\n",
    "y_test=[]\n",
    "with open('aclImdb\\\\test\\\\labeledBow.feat') as f:\n",
    "    lines=f.readlines()   # do not process the header line\n",
    "    test_mtrx=csr_matrix((len(lines), len(words_df.index)), dtype=np.uint8).toarray()\n",
    "    for line in lines:\n",
    "      items=line.split(\" \")\n",
    "      y_test.append(int(items[0]))\n",
    "      for j in items[1:]:\n",
    "        word,cnt=j.split(\":\")\n",
    "        #print(type(word),cnt)\n",
    "        test_mtrx[int(tmp),int(word)]=cnt\n",
    "      tmp=tmp+1\n",
    "\n",
    "test_mtrx.shape"
   ]
  },
  {
   "cell_type": "code",
   "execution_count": 660,
   "id": "lonely-bandwidth",
   "metadata": {},
   "outputs": [
    {
     "data": {
      "text/plain": [
       "89356"
      ]
     },
     "execution_count": 660,
     "metadata": {},
     "output_type": "execute_result"
    }
   ],
   "source": [
    "#index of Non stop words\n",
    "non_stp_indx=list(words_df[words_df.words.isin(stops)!=True].index)\n",
    "len(non_stp_indx)"
   ]
  },
  {
   "cell_type": "code",
   "execution_count": 661,
   "id": "vocational-level",
   "metadata": {},
   "outputs": [],
   "source": [
    "train_mtrx=train_mtrx[:,non_stp_indx]\n",
    "test_mtrx = test_mtrx[:,non_stp_indx]"
   ]
  },
  {
   "cell_type": "code",
   "execution_count": 662,
   "id": "lined-adult",
   "metadata": {},
   "outputs": [],
   "source": [
    "#Normalize Matrix\n",
    "\n",
    "for col in range(train_mtrx.shape[1]):\n",
    "  col_means = np.mean(train_mtrx[:,col])\n",
    "  col_stv = np.std(train_mtrx[:,col])\n",
    "  #print(mtrx[:,col])\n",
    "  train_mtrx[:,col]=(train_mtrx[:,col]-col_means)/col_stv\n",
    "  #print(mtrx[:,col],col_means,col_stv)"
   ]
  },
  {
   "cell_type": "code",
   "execution_count": 663,
   "id": "olive-liabilities",
   "metadata": {},
   "outputs": [],
   "source": [
    "#Normalize Matrix\n",
    "\n",
    "for col in range(test_mtrx.shape[1]):\n",
    "  col_means = np.mean(test_mtrx[:,col])\n",
    "  col_stv = np.std(test_mtrx[:,col])\n",
    "  #print(mtrx[:,col])\n",
    "  test_mtrx[:,col]=(test_mtrx[:,col]-col_means)/col_stv"
   ]
  },
  {
   "cell_type": "code",
   "execution_count": 664,
   "id": "derived-identification",
   "metadata": {
    "scrolled": true
   },
   "outputs": [
    {
     "data": {
      "text/plain": [
       "(25000, 89356)"
      ]
     },
     "execution_count": 664,
     "metadata": {},
     "output_type": "execute_result"
    }
   ],
   "source": [
    "train_mtrx.shape"
   ]
  },
  {
   "cell_type": "code",
   "execution_count": 665,
   "id": "forbidden-excess",
   "metadata": {},
   "outputs": [],
   "source": [
    "#Normalize y\n",
    "col_means = np.mean(y_train)\n",
    "col_stv = np.std(y_train)\n",
    "#print(y)\n",
    "y_train=(y_train-col_means)/col_stv"
   ]
  },
  {
   "cell_type": "code",
   "execution_count": 666,
   "id": "illegal-stylus",
   "metadata": {
    "scrolled": true
   },
   "outputs": [
    {
     "name": "stdout",
     "output_type": "stream",
     "text": [
      "(89356,)\n"
     ]
    },
    {
     "data": {
      "text/plain": [
       "array([-7.83338294,  2.37012529,  1.63004577, ...,  1.30366158,\n",
       "        1.30366158, -0.42599016])"
      ]
     },
     "execution_count": 666,
     "metadata": {},
     "output_type": "execute_result"
    }
   ],
   "source": [
    "dt_train=np.dot(train_mtrx.transpose(),y_train)/math.sqrt(train_mtrx.shape[0])\n",
    "print(dt_train.shape)\n",
    "dt_train"
   ]
  },
  {
   "cell_type": "code",
   "execution_count": 667,
   "id": "continental-tenant",
   "metadata": {
    "scrolled": true
   },
   "outputs": [
    {
     "name": "stdout",
     "output_type": "stream",
     "text": [
      "[32.38688265 27.82736491 27.47911296 23.98982467 22.20933949 21.64597294\n",
      " 21.58175542 20.8356732  20.17108598 18.58175073 18.37368654 17.88041132\n",
      " 17.66626934 17.23137863 17.01094086 17.00913254 17.00059769 16.92943237\n",
      " 16.74898904 16.45979383 16.34611316 16.3426189  16.18704212 16.13471279\n",
      " 15.66469124 15.47498172 15.35863783 15.21315762 15.18320596 15.17391576\n",
      " 15.16947596 15.12952823 14.73699406 14.69558583 14.68596926 14.54161281\n",
      " 14.51999049 14.43828882 14.18396068 14.17623125 14.08848558 13.96212307\n",
      " 13.94355223 13.89033347 13.87573389 13.26821101 12.89094711 12.8378957\n",
      " 12.76247442 12.67806749 12.54831602 12.49471097 12.41224563 12.33103578\n",
      " 12.31797684 12.27807246 12.27209742 12.16620646 12.04013412 12.01574085\n",
      " 12.01042418 12.01040389 11.87492771 11.86430517 11.67137653 11.58009543\n",
      " 11.57106767 11.5655087  11.56046637 11.4830951  11.42293475 11.41211749\n",
      " 11.26589821 11.167013   11.13147128 11.09392959 11.05273885 10.98422654\n",
      " 10.95908426 10.92833186 10.8434931  10.78391031 10.69686322 10.63357198\n",
      " 10.62889841 10.59405673 10.52243879 10.5088824  10.49781023 10.42779611\n",
      " 10.41932928 10.36945255 10.36209051 10.34178163 10.32132276 10.30038865\n",
      " 10.25489304 10.21887688 10.13317358 10.13208157 10.12654062 10.07069637\n",
      " 10.0199735  10.01851898 10.00248212  9.97736232  9.95848598  9.93144102\n",
      "  9.93062823  9.91397861  9.89738899  9.87004823  9.8367701   9.81164534\n",
      "  9.80440744  9.75893869  9.75470578  9.70225296  9.66273823  9.65907918\n",
      "  9.626044    9.61058544  9.58076478  9.55611586  9.48925037  9.48765828\n",
      "  9.47760448  9.43609985  9.42017267  9.41313715  9.40766466  9.39368214\n",
      "  9.38069282  9.37573142  9.36958919  9.34266888  9.29367361  9.24023488\n",
      "  9.23137681  9.22248975  9.20277734  9.19822522  9.19533634  9.18722369\n",
      "  9.15374004  9.13956054  9.13896385  9.12206931  9.11722359  9.100092\n",
      "  9.06926071  9.05378485  9.02960892  8.99832871  8.97891268  8.97619552\n",
      "  8.9611593   8.95288164  8.95055763  8.93044404  8.89282404  8.84658191\n",
      "  8.84135537  8.83549404  8.79300066  8.78034092  8.7779918   8.77615648\n",
      "  8.77285868  8.7113168   8.70336529  8.67010839  8.65843382  8.63391889\n",
      "  8.62232278  8.61844734  8.6132651   8.5969874   8.59465667  8.5936437\n",
      "  8.56884925  8.56404133  8.55328158  8.54921785  8.54470499  8.51389916\n",
      "  8.49333003  8.49286171  8.46137518  8.44675328  8.44516397  8.42356303\n",
      "  8.41100561  8.40935602  8.373948    8.35099509  8.34965472  8.33941766\n",
      "  8.26438807  8.22630252  8.22513701  8.20724942  8.20693955  8.19044786\n",
      "  8.15569142  8.15115463  8.13988803  8.12006884  8.11684169  8.10579367\n",
      "  8.10385405  8.09936105  8.09438884  8.08498363  8.06715062  8.04668906\n",
      "  8.03716379  8.01572326  7.97500967  7.96489544  7.96339298  7.9468548\n",
      "  7.93225822  7.92588902  7.88643967  7.88484978  7.84858336  7.84654245\n",
      "  7.84057566  7.83701374  7.83338294  7.82011351  7.80056392  7.7971225\n",
      "  7.78351138  7.77324886  7.76386181  7.73039582  7.72306575  7.72002557\n",
      "  7.70957198  7.70838969  7.66787446  7.6676469   7.64995658  7.64007158\n",
      "  7.62777004  7.6234408   7.61962878  7.61669414  7.59598415  7.57717853\n",
      "  7.56382467  7.56330358  7.53308233  7.5282061   7.52420455  7.52281907\n",
      "  7.51922914  7.51921987  7.50233365  7.45297245  7.451296    7.45046825\n",
      "  7.44261819  7.43431024  7.40292618  7.3875776   7.38473988  7.37328426\n",
      "  7.36191702  7.36082456  7.35547549  7.34395396  7.32967645  7.32506077\n",
      "  7.31955259  7.31074341  7.30482742  7.27171648  7.26531108  7.26412389\n",
      "  7.26320966  7.25672587  7.24816286  7.24079666  7.23777736  7.23528367\n",
      "  7.22786258  7.22469367  7.22172371  7.21504141  7.21354224  7.17016571\n",
      "  7.16966433  7.16619072  7.13663433  7.13286996  7.10935181  7.10667245]\n"
     ]
    },
    {
     "data": {
      "text/plain": [
       "array([ 138,  257,  312,  262,  258,  307,   17,  462,  386,  633,  252,\n",
       "        200,  727,  344,   39,   19,  124,  234,  280,  971,  499,  294,\n",
       "        322,  740,  882,    5, 1136,   38,  376,  218,  408,  686, 1045,\n",
       "       1063,  476, 1467,  767,  162,  120,  621, 1117,  190,  391,  324,\n",
       "        775,   63,   34, 1151,  372, 1109, 1477, 1153,  738,  230,  128,\n",
       "       1757,   40,  459,  371,  104,  567, 1674,   36,  608, 2156,  819,\n",
       "        612,  785,  821,  115,  999,  824,  840, 2300, 1223, 1488, 1977,\n",
       "        405,  641,  444, 2379,  260, 1039, 2129, 1940,  761,  672, 2278,\n",
       "       1457,  394, 1010, 1191,  123,  578, 1122,  822, 2135, 1804,  791,\n",
       "        187, 1051,  469, 3093, 2979,   23, 1155, 2912, 1884, 1704, 1325,\n",
       "        461, 2044, 2109,  165,  431,  532, 1684,   58, 1969,  428, 3967,\n",
       "       1132,  884, 2431,  276,  236, 1024, 1702, 1537,   24,  244, 1247,\n",
       "       1367,  601, 3380, 2209,  660,  900,  880,  351,  358, 2113, 2597,\n",
       "        465,  448, 2146,  275, 1099, 1447, 1341, 3558, 1658, 3809, 1110,\n",
       "        664,    7, 1144, 3341,  122,  172,  965,  155, 2566, 1103, 1925,\n",
       "        233,  933, 2776, 1202,  749,  232, 2801, 2967, 2284, 2648, 3038,\n",
       "       4809, 2579, 2779,  223,  169,   59,  464,  215,  163, 3280, 1932,\n",
       "        327, 1476,   78,  888, 1379,  201,  471,   83,  156,  410, 3333,\n",
       "        624,  521,  339,   46, 1068,   13,  143, 2147, 2389,  460, 3389,\n",
       "        175,  299,  549,   18, 1100, 1331,  728, 2992,  787,  497, 3656,\n",
       "       3394, 1241, 2922,  759, 4934,   54, 2815,  283,  148,  440,    0,\n",
       "       1227, 3290, 1385, 1815, 2703,  359, 1330,   88, 2420, 3356,  920,\n",
       "       3420, 3307,  108, 2219,  704, 1636,  765,  470, 2092,  516, 3446,\n",
       "       4179, 1725, 1332,  401,  705, 1064, 3141, 1419,  203, 1056,  790,\n",
       "       4121, 2469, 1911, 1487,  678,  851, 1297,  552, 1753,   99, 2948,\n",
       "        313,  204, 1414, 1863,  140,  378, 3300,  494, 1390, 1617,  647,\n",
       "       1256, 2551, 1389, 1135, 4236,  837, 1394, 1254,  557,  399, 1042,\n",
       "       2004,  682, 2315], dtype=int64)"
      ]
     },
     "execution_count": 667,
     "metadata": {},
     "output_type": "execute_result"
    }
   ],
   "source": [
    "dt2_train=np.absolute(dt_train)#absolute values\n",
    "max_index=(-dt2_train).argsort()[0:300]#Get index of 300 max\n",
    "max=dt2_train[max_index]\n",
    "print(max)\n",
    "max_index"
   ]
  },
  {
   "cell_type": "code",
   "execution_count": 668,
   "id": "distributed-honolulu",
   "metadata": {},
   "outputs": [
    {
     "data": {
      "text/plain": [
       "(25000, 89356)"
      ]
     },
     "execution_count": 668,
     "metadata": {},
     "output_type": "execute_result"
    }
   ],
   "source": [
    "test_mtrx.shape"
   ]
  },
  {
   "cell_type": "code",
   "execution_count": 669,
   "id": "turkish-chick",
   "metadata": {},
   "outputs": [
    {
     "name": "stdout",
     "output_type": "stream",
     "text": [
      "(25000, 300) (25000, 300)\n"
     ]
    }
   ],
   "source": [
    "train_mtrx = train_mtrx[:,max_index]\n",
    "test_mtrx = test_mtrx[:,max_index]\n",
    "print(train_mtrx.shape, test_mtrx.shape)"
   ]
  },
  {
   "cell_type": "code",
   "execution_count": 670,
   "id": "spread-heater",
   "metadata": {
    "scrolled": true
   },
   "outputs": [
    {
     "data": {
      "text/html": [
       "<div>\n",
       "<style scoped>\n",
       "    .dataframe tbody tr th:only-of-type {\n",
       "        vertical-align: middle;\n",
       "    }\n",
       "\n",
       "    .dataframe tbody tr th {\n",
       "        vertical-align: top;\n",
       "    }\n",
       "\n",
       "    .dataframe thead th {\n",
       "        text-align: right;\n",
       "    }\n",
       "</style>\n",
       "<table border=\"1\" class=\"dataframe\">\n",
       "  <thead>\n",
       "    <tr style=\"text-align: right;\">\n",
       "      <th></th>\n",
       "      <th>words</th>\n",
       "    </tr>\n",
       "  </thead>\n",
       "  <tbody>\n",
       "    <tr>\n",
       "      <th>138</th>\n",
       "      <td>something</td>\n",
       "    </tr>\n",
       "    <tr>\n",
       "      <th>257</th>\n",
       "      <td>trying</td>\n",
       "    </tr>\n",
       "    <tr>\n",
       "      <th>312</th>\n",
       "      <td>idea</td>\n",
       "    </tr>\n",
       "    <tr>\n",
       "      <th>262</th>\n",
       "      <td>place</td>\n",
       "    </tr>\n",
       "    <tr>\n",
       "      <th>258</th>\n",
       "      <td>goes</td>\n",
       "    </tr>\n",
       "    <tr>\n",
       "      <th>...</th>\n",
       "      <td>...</td>\n",
       "    </tr>\n",
       "    <tr>\n",
       "      <th>399</th>\n",
       "      <td>finally</td>\n",
       "    </tr>\n",
       "    <tr>\n",
       "      <th>1042</th>\n",
       "      <td>escape</td>\n",
       "    </tr>\n",
       "    <tr>\n",
       "      <th>2004</th>\n",
       "      <td>national</td>\n",
       "    </tr>\n",
       "    <tr>\n",
       "      <th>682</th>\n",
       "      <td>british</td>\n",
       "    </tr>\n",
       "    <tr>\n",
       "      <th>2315</th>\n",
       "      <td>continuity</td>\n",
       "    </tr>\n",
       "  </tbody>\n",
       "</table>\n",
       "<p>300 rows × 1 columns</p>\n",
       "</div>"
      ],
      "text/plain": [
       "           words\n",
       "138    something\n",
       "257       trying\n",
       "312         idea\n",
       "262        place\n",
       "258         goes\n",
       "...          ...\n",
       "399      finally\n",
       "1042      escape\n",
       "2004    national\n",
       "682      british\n",
       "2315  continuity\n",
       "\n",
       "[300 rows x 1 columns]"
      ]
     },
     "execution_count": 670,
     "metadata": {},
     "output_type": "execute_result"
    }
   ],
   "source": [
    "#df_NOindx.iloc[max_index]\n",
    "words_df.loc[max_index]"
   ]
  },
  {
   "cell_type": "code",
   "execution_count": 671,
   "id": "honey-blast",
   "metadata": {
    "scrolled": false
   },
   "outputs": [
    {
     "data": {
      "image/png": "[encoded data removed]",
      "text/plain": [
       "<Figure size 432x288 with 1 Axes>"
      ]
     },
     "metadata": {
      "needs_background": "light"
     },
     "output_type": "display_data"
    }
   ],
   "source": [
    "Product = list(words_df.loc[max_index[:20]].words)\n",
    "Quantity = max[:20]\n",
    "\n",
    "plt.barh(Product,Quantity)\n",
    "plt.title('')\n",
    "plt.ylabel('Words')\n",
    "plt.xlabel('Z Score')\n",
    "plt.show()"
   ]
  },
  {
   "cell_type": "markdown",
   "id": "wrapped-trinity",
   "metadata": {},
   "source": [
    "### Logistic Regresion"
   ]
  },
  {
   "cell_type": "code",
   "execution_count": 672,
   "id": "junior-prior",
   "metadata": {},
   "outputs": [
    {
     "data": {
      "text/plain": [
       "0.85024"
      ]
     },
     "execution_count": 672,
     "metadata": {},
     "output_type": "execute_result"
    }
   ],
   "source": [
    "model = logisticRegression()\n",
    "losses_train = model.fit(train_mtrx,training_label)\n",
    "label_pred = model.predict(test_mtrx)\n",
    "accuracy_score(testing_label,label_pred)"
   ]
  },
  {
   "cell_type": "code",
   "execution_count": 673,
   "id": "be8835ee",
   "metadata": {
    "scrolled": false
   },
   "outputs": [
    {
     "data": {
      "image/png": "[encoded data removed]",
      "text/plain": [
       "<Figure size 432x288 with 1 Axes>"
      ]
     },
     "metadata": {
      "needs_background": "light"
     },
     "output_type": "display_data"
    }
   ],
   "source": [
    "Product = list(words_df.loc[max_index[:20]].words)\n",
    "Quantity = model.getW()[1:21]\n",
    "\n",
    "\n",
    "plt.barh(Product,Quantity)\n",
    "plt.title('')\n",
    "plt.ylabel('Top 20 features')\n",
    "plt.xlabel('coefficient')\n",
    "plt.show()\n"
   ]
  },
  {
   "cell_type": "markdown",
   "id": "agreed-thinking",
   "metadata": {},
   "source": [
    "training_label = np.expand_dims(training_label, axis=-1)\n",
    "testing_label = np.expand_dims(testing_label, axis=-1)"
   ]
  },
  {
   "cell_type": "code",
   "execution_count": 674,
   "id": "bc097fff",
   "metadata": {},
   "outputs": [
    {
     "data": {
      "image/png": "[encoded data removed]",
      "text/plain": [
       "<Figure size 432x288 with 1 Axes>"
      ]
     },
     "metadata": {
      "needs_background": "light"
     },
     "output_type": "display_data"
    }
   ],
   "source": [
    "plt.clf()\n",
    "plt.plot(losses_train, label='train')\n",
    "plt.xlabel(\"iteration\")\n",
    "plt.ylabel(\"CE\")\n",
    "plt.legend()\n",
    "# plt.show()\n",
    "plt.savefig(\"training_ce.png\", bbox_inches=\"tight\", dpi=300)"
   ]
  },
  {
   "cell_type": "markdown",
   "id": "nonprofit-basement",
   "metadata": {},
   "source": [
    "### KNN"
   ]
  },
  {
   "cell_type": "code",
   "execution_count": 675,
   "id": "tired-robinson",
   "metadata": {},
   "outputs": [
    {
     "data": {
      "text/plain": [
       "0.75396"
      ]
     },
     "execution_count": 675,
     "metadata": {},
     "output_type": "execute_result"
    }
   ],
   "source": [
    "from sklearn.neighbors import KNeighborsClassifier\n",
    "\n",
    "knn = KNeighborsClassifier()\n",
    "knn_model = knn.fit(train_mtrx,training_label)\n",
    "knn_pred = knn.predict(test_mtrx)\n",
    "accuracy_score(testing_label,knn_pred)"
   ]
  },
  {
   "cell_type": "markdown",
   "id": "occasional-stake",
   "metadata": {},
   "source": [
    "### AUROC"
   ]
  },
  {
   "cell_type": "code",
   "execution_count": 676,
   "id": "decent-bundle",
   "metadata": {},
   "outputs": [],
   "source": [
    "models = [LogisticRegression(),\n",
    "          KNeighborsClassifier()]"
   ]
  },
  {
   "cell_type": "code",
   "execution_count": 677,
   "id": "stunning-hacker",
   "metadata": {},
   "outputs": [],
   "source": [
    "perf = {}\n",
    "\n",
    "# our implementation is slow you may try sklearn version\n",
    "model = logisticRegression()\n",
    "scratch_train = model.fit(train_mtrx,training_label)\n",
    "label_pred = model.predict(test_mtrx)\n",
    "fpr, tpr, _ = roc_curve(testing_label, label_pred)\n",
    "auroc = roc_auc_score(testing_label, label_pred)\n",
    "perf[\"LogisticRegression (ours)\"] = {'fpr':fpr, 'tpr':tpr, 'auroc':auroc}\n",
    "\n",
    "for model in models:\n",
    "    fit_func = model.fit(train_mtrx, training_label)\n",
    "    y_test_prob = model.predict_proba(test_mtrx)[:,1]\n",
    "    fpr, tpr, _ = roc_curve(testing_label, y_test_prob)\n",
    "    auroc = roc_auc_score(testing_label, y_test_prob)\n",
    "    if type(model).__name__ == \"LogisticRegression\":\n",
    "        perf[\"LogisticRegression (sklearn)\"] = {'fpr':fpr,'tpr':tpr,'auroc':auroc}\n",
    "    else:\n",
    "        perf[type(model).__name__] = {'fpr':fpr,'tpr':tpr,'auroc':auroc}"
   ]
  },
  {
   "cell_type": "code",
   "execution_count": 678,
   "id": "broadband-modern",
   "metadata": {
    "scrolled": true
   },
   "outputs": [
    {
     "data": {
      "image/png": "[encoded data removed]",
      "text/plain": [
       "<Figure size 432x288 with 1 Axes>"
      ]
     },
     "metadata": {
      "needs_background": "light"
     },
     "output_type": "display_data"
    }
   ],
   "source": [
    "plt.clf()\n",
    "i = 0\n",
    "for model_name, model_perf in perf.items():\n",
    "    plt.plot(model_perf['fpr'], model_perf['tpr'],label=model_name)\n",
    "    plt.text(0.4, i+0.1, model_name + ': AUC = '+ str(round(model_perf['auroc'],2)))\n",
    "    i += 0.1\n",
    "\n",
    "plt.plot([0, 1], [0, 1], color=\"navy\", lw=2, linestyle=\"--\")\n",
    "plt.xlim([0.0, 1.0])\n",
    "plt.ylim([0.0, 1.05])\n",
    "\n",
    "plt.xlabel(\"False Positive Rate\")\n",
    "plt.ylabel(\"True Positive Rate\")\n",
    "plt.title('ROC in predicting IMDB Reviews')\n",
    "plt.legend(bbox_to_anchor=(1.04, 0.5), loc=\"upper left\")\n",
    "# plt.show()\n",
    "plt.savefig(\"roc_curve.png\", bbox_inches='tight', dpi=300)\n",
    "# plt.close()"
   ]
  },
  {
   "cell_type": "code",
   "execution_count": 679,
   "id": "metric-destiny",
   "metadata": {},
   "outputs": [],
   "source": [
    "train_mtrx, training_label = shuffle(train_mtrx, training_label)\n",
    "test_mtrx, testing_label = shuffle(test_mtrx, testing_label)"
   ]
  },
  {
   "cell_type": "code",
   "execution_count": 680,
   "id": "parallel-recycling",
   "metadata": {},
   "outputs": [],
   "source": [
    "train_text = train_mtrx[:5000,:]\n",
    "train_label = training_label[:5000]\n",
    "\n",
    "test_text = test_mtrx[:5000,:]\n",
    "test_label = testing_label[:5000]"
   ]
  },
  {
   "cell_type": "code",
   "execution_count": 681,
   "id": "amino-discrimination",
   "metadata": {},
   "outputs": [
    {
     "data": {
      "image/png": "[encoded data removed]",
      "text/plain": [
       "<Figure size 432x288 with 1 Axes>"
      ]
     },
     "metadata": {
      "needs_background": "light"
     },
     "output_type": "display_data"
    }
   ],
   "source": [
    "perf = {}\n",
    "i = 0\n",
    "# our implementation is slow you may try sklearn version\n",
    "model = logisticRegression()\n",
    "scratch_train = model.fit(train_text, train_label)\n",
    "label_pred = model.predict(test_text)\n",
    "fpr, tpr, _ = roc_curve(test_label, label_pred)\n",
    "auroc = roc_auc_score(test_label, label_pred)\n",
    "perf[\"LogisticRegression (ours)\"] = {'fpr':fpr, 'tpr':tpr, 'auroc':auroc}\n",
    "\n",
    "for model in models:\n",
    "    fit_func = model.fit(train_text, train_label)\n",
    "    y_test_prob = model.predict_proba(test_text)[:,1]\n",
    "    fpr, tpr, _ = roc_curve(test_label, y_test_prob)\n",
    "    auroc = roc_auc_score(test_label, y_test_prob)\n",
    "    if type(model).__name__ == \"LogisticRegression\":\n",
    "        perf[\"LogisticRegression (sklearn)\"] = {'fpr':fpr,'tpr':tpr,'auroc':auroc}\n",
    "    else:\n",
    "        perf[type(model).__name__] = {'fpr':fpr,'tpr':tpr,'auroc':auroc}\n",
    "        \n",
    "for model_name, model_perf in perf.items():\n",
    "    plt.bar(model_name, model_perf['auroc'], color ='maroon',width = 0.1) \n",
    "    plt.title(\"AUROC Bar Plot with 20% of Training Data\")        \n",
    "    plt.text(0.4, i+0.1, model_name + ': AUC = '+ str(round(model_perf['auroc'],2)))\n",
    "    i += 0.1"
   ]
  },
  {
   "cell_type": "code",
   "execution_count": 682,
   "id": "transsexual-steering",
   "metadata": {},
   "outputs": [],
   "source": [
    "train_text = train_mtrx[:10000,:]\n",
    "train_label = training_label[:10000]\n",
    "\n",
    "test_text = test_mtrx[:10000,:]\n",
    "test_label = testing_label[:10000]"
   ]
  },
  {
   "cell_type": "code",
   "execution_count": 683,
   "id": "hundred-attribute",
   "metadata": {},
   "outputs": [
    {
     "data": {
      "image/png": "[encoded data removed]",
      "text/plain": [
       "<Figure size 432x288 with 1 Axes>"
      ]
     },
     "metadata": {
      "needs_background": "light"
     },
     "output_type": "display_data"
    }
   ],
   "source": [
    "perf = {}\n",
    "i = 0\n",
    "# our implementation is slow you may try sklearn version\n",
    "model = logisticRegression()\n",
    "scratch_train = model.fit(train_text, train_label)\n",
    "label_pred = model.predict(test_text)\n",
    "fpr, tpr, _ = roc_curve(test_label, label_pred)\n",
    "auroc = roc_auc_score(test_label, label_pred)\n",
    "perf[\"LogisticRegression (ours)\"] = {'fpr':fpr, 'tpr':tpr, 'auroc':auroc}\n",
    "\n",
    "for model in models:\n",
    "    fit_func = model.fit(train_text, train_label)\n",
    "    y_test_prob = model.predict_proba(test_text)[:,1]\n",
    "    fpr, tpr, _ = roc_curve(test_label, y_test_prob)\n",
    "    auroc = roc_auc_score(test_label, y_test_prob)\n",
    "    if type(model).__name__ == \"LogisticRegression\":\n",
    "        perf[\"LogisticRegression (sklearn)\"] = {'fpr':fpr,'tpr':tpr,'auroc':auroc}\n",
    "    else:\n",
    "        perf[type(model).__name__] = {'fpr':fpr,'tpr':tpr,'auroc':auroc}\n",
    "        \n",
    "for model_name, model_perf in perf.items():\n",
    "    plt.bar(model_name, model_perf['auroc'], color ='maroon',width = 0.1) \n",
    "    plt.title(\"AUROC Bar Plot with 40% of Training Data\")   \n",
    "    plt.text(0.4, i+0.1, model_name + ': AUC = '+ str(round(model_perf['auroc'],2)))\n",
    "    i += 0.1"
   ]
  },
  {
   "cell_type": "code",
   "execution_count": 684,
   "id": "desirable-detail",
   "metadata": {},
   "outputs": [],
   "source": [
    "train_text = train_mtrx[:15000,:]\n",
    "train_label = training_label[:15000]\n",
    "\n",
    "test_text = test_mtrx[:15000,:]\n",
    "test_label = testing_label[:15000]"
   ]
  },
  {
   "cell_type": "code",
   "execution_count": 685,
   "id": "packed-bouquet",
   "metadata": {},
   "outputs": [
    {
     "data": {
      "image/png": "[encoded data removed]",
      "text/plain": [
       "<Figure size 432x288 with 1 Axes>"
      ]
     },
     "metadata": {
      "needs_background": "light"
     },
     "output_type": "display_data"
    }
   ],
   "source": [
    "perf = {}\n",
    "i = 0\n",
    "# our implementation is slow you may try sklearn version\n",
    "model = logisticRegression()\n",
    "scratch_train = model.fit(train_text, train_label)\n",
    "label_pred = model.predict(test_text)\n",
    "fpr, tpr, _ = roc_curve(test_label, label_pred)\n",
    "auroc = roc_auc_score(test_label, label_pred)\n",
    "perf[\"LogisticRegression (ours)\"] = {'fpr':fpr, 'tpr':tpr, 'auroc':auroc}\n",
    "\n",
    "for model in models:\n",
    "    fit_func = model.fit(train_text, train_label)\n",
    "    y_test_prob = model.predict_proba(test_text)[:,1]\n",
    "    fpr, tpr, _ = roc_curve(test_label, y_test_prob)\n",
    "    auroc = roc_auc_score(test_label, y_test_prob)\n",
    "    if type(model).__name__ == \"LogisticRegression\":\n",
    "        perf[\"LogisticRegression (sklearn)\"] = {'fpr':fpr,'tpr':tpr,'auroc':auroc}\n",
    "    else:\n",
    "        perf[type(model).__name__] = {'fpr':fpr,'tpr':tpr,'auroc':auroc}\n",
    "        \n",
    "for model_name, model_perf in perf.items():\n",
    "    plt.bar(model_name, model_perf['auroc'], color ='maroon',width = 0.1) \n",
    "    plt.title(\"AUROC Bar Plot with 60% of Training Data\")   \n",
    "    plt.text(0.4, i+0.1, model_name + ': AUC = '+ str(round(model_perf['auroc'],2)))\n",
    "    i += 0.1"
   ]
  },
  {
   "cell_type": "code",
   "execution_count": 686,
   "id": "wired-subdivision",
   "metadata": {},
   "outputs": [],
   "source": [
    "train_text = train_mtrx[:20000,:]\n",
    "train_label = training_label[:20000]\n",
    "\n",
    "test_text = test_mtrx[:20000,:]\n",
    "test_label = testing_label[:20000]"
   ]
  },
  {
   "cell_type": "code",
   "execution_count": 687,
   "id": "lonely-retention",
   "metadata": {},
   "outputs": [
    {
     "data": {
      "image/png": "[encoded data removed]",
      "text/plain": [
       "<Figure size 432x288 with 1 Axes>"
      ]
     },
     "metadata": {
      "needs_background": "light"
     },
     "output_type": "display_data"
    }
   ],
   "source": [
    "perf = {}\n",
    "i = 0\n",
    "# our implementation is slow you may try sklearn version\n",
    "model = logisticRegression()\n",
    "scratch_train = model.fit(train_text, train_label)\n",
    "label_pred = model.predict(test_text)\n",
    "fpr, tpr, _ = roc_curve(test_label, label_pred)\n",
    "auroc = roc_auc_score(test_label, label_pred)\n",
    "perf[\"LogisticRegression (ours)\"] = {'fpr':fpr, 'tpr':tpr, 'auroc':auroc}\n",
    "\n",
    "for model in models:\n",
    "    fit_func = model.fit(train_text, train_label)\n",
    "    y_test_prob = model.predict_proba(test_text)[:,1]\n",
    "    fpr, tpr, _ = roc_curve(test_label, y_test_prob)\n",
    "    auroc = roc_auc_score(test_label, y_test_prob)\n",
    "    if type(model).__name__ == \"LogisticRegression\":\n",
    "        perf[\"LogisticRegression (sklearn)\"] = {'fpr':fpr,'tpr':tpr,'auroc':auroc}\n",
    "    else:\n",
    "        perf[type(model).__name__] = {'fpr':fpr,'tpr':tpr,'auroc':auroc}\n",
    "        \n",
    "for model_name, model_perf in perf.items():\n",
    "    plt.bar(model_name, model_perf['auroc'], color ='maroon',width = 0.1) \n",
    "    plt.title(\"AUROC Bar Plot with 80% of Training Data\") \n",
    "    plt.text(0.4, i+0.1, model_name + ': AUC = '+ str(round(model_perf['auroc'],2)))\n",
    "    i += 0.1"
   ]
  },
  {
   "cell_type": "code",
   "execution_count": 688,
   "id": "incorporate-riverside",
   "metadata": {},
   "outputs": [],
   "source": [
    "train_text = train_mtrx[:,:]\n",
    "train_label = training_label[:]\n",
    "\n",
    "test_text = test_mtrx[:,:]\n",
    "test_label = testing_label[:]"
   ]
  },
  {
   "cell_type": "code",
   "execution_count": 689,
   "id": "subtle-camera",
   "metadata": {
    "scrolled": true
   },
   "outputs": [
    {
     "data": {
      "image/png": "[encoded data removed]",
      "text/plain": [
       "<Figure size 432x288 with 1 Axes>"
      ]
     },
     "metadata": {
      "needs_background": "light"
     },
     "output_type": "display_data"
    }
   ],
   "source": [
    "perf = {}\n",
    "i = 0\n",
    "# our implementation is slow you may try sklearn version\n",
    "model = logisticRegression()\n",
    "scratch_train = model.fit(train_text, train_label)\n",
    "label_pred = model.predict(test_text)\n",
    "fpr, tpr, _ = roc_curve(test_label, label_pred)\n",
    "auroc = roc_auc_score(test_label, label_pred)\n",
    "perf[\"LogisticRegression (ours)\"] = {'fpr':fpr, 'tpr':tpr, 'auroc':auroc}\n",
    "\n",
    "for model in models:\n",
    "    fit_func = model.fit(train_text, train_label)\n",
    "    y_test_prob = model.predict_proba(test_text)[:,1]\n",
    "    fpr, tpr, _ = roc_curve(test_label, y_test_prob)\n",
    "    auroc = roc_auc_score(test_label, y_test_prob)\n",
    "    if type(model).__name__ == \"LogisticRegression\":\n",
    "        perf[\"LogisticRegression (sklearn)\"] = {'fpr':fpr,'tpr':tpr,'auroc':auroc}\n",
    "    else:\n",
    "        perf[type(model).__name__] = {'fpr':fpr,'tpr':tpr,'auroc':auroc}\n",
    "        \n",
    "for model_name, model_perf in perf.items():\n",
    "    plt.bar(model_name, model_perf['auroc'], color ='maroon',width = 0.1) \n",
    "    plt.title(\"AUROC Bar Plot with 100% of Training Data\") \n",
    "    plt.text(0.3, i+0.1, model_name + ': AUC = '+ str(round(model_perf['auroc'],2)))\n",
    "    i += 0.1  "
   ]
  },
  {
   "cell_type": "markdown",
   "id": "copyrighted-america",
   "metadata": {},
   "source": [
    "### Another Approach"
   ]
  },
  {
   "cell_type": "code",
   "execution_count": 690,
   "id": "finite-technician",
   "metadata": {},
   "outputs": [
    {
     "name": "stdout",
     "output_type": "stream",
     "text": [
      "Loading  neg\n"
     ]
    },
    {
     "name": "stderr",
     "output_type": "stream",
     "text": [
      "100%|███████████████████████████████████████████████████████████████████████████| 12500/12500 [00:55<00:00, 227.19it/s]\n"
     ]
    },
    {
     "name": "stdout",
     "output_type": "stream",
     "text": [
      "Loading  pos\n"
     ]
    },
    {
     "name": "stderr",
     "output_type": "stream",
     "text": [
      "100%|███████████████████████████████████████████████████████████████████████████| 12500/12500 [00:57<00:00, 217.26it/s]\n"
     ]
    }
   ],
   "source": [
    "train = os.path.join('train')\n",
    "train_labels = []\n",
    "train_texts = []\n",
    "for label_type in ['neg','pos']:\n",
    "    dir_n = os.path.join(train,label_type) \n",
    "    print('Loading ',label_type)\n",
    "    for fname in tqdm(os.listdir(dir_n)):\n",
    "        if fname[-4:] == \".txt\":\n",
    "            f = open(os.path.join(dir_n,fname),encoding='utf8')\n",
    "            train_texts.append(f.read())\n",
    "            f.close()\n",
    "            if label_type == 'neg':\n",
    "                train_labels.append(0)\n",
    "            else:\n",
    "                train_labels.append(1)      "
   ]
  },
  {
   "cell_type": "code",
   "execution_count": 691,
   "id": "ideal-lounge",
   "metadata": {},
   "outputs": [
    {
     "name": "stdout",
     "output_type": "stream",
     "text": [
      "Loading  neg\n"
     ]
    },
    {
     "name": "stderr",
     "output_type": "stream",
     "text": [
      "100%|███████████████████████████████████████████████████████████████████████████| 12500/12500 [00:55<00:00, 226.08it/s]\n"
     ]
    },
    {
     "name": "stdout",
     "output_type": "stream",
     "text": [
      "Loading  pos\n"
     ]
    },
    {
     "name": "stderr",
     "output_type": "stream",
     "text": [
      "100%|███████████████████████████████████████████████████████████████████████████| 12500/12500 [00:24<00:00, 514.32it/s]\n"
     ]
    }
   ],
   "source": [
    "train = os.path.join('test')\n",
    "test_labels = []\n",
    "test_texts = []\n",
    "for label_type in ['neg','pos']:\n",
    "    dir_n = os.path.join(train,label_type) \n",
    "    print('Loading ',label_type)\n",
    "    for fname in tqdm(os.listdir(dir_n)):\n",
    "        if fname[-4:] == \".txt\":\n",
    "            f = open(os.path.join(dir_n,fname),encoding='utf8')\n",
    "            test_texts.append(f.read())\n",
    "            f.close()\n",
    "            if label_type == 'neg':\n",
    "                test_labels.append(0)\n",
    "            else:\n",
    "                test_labels.append(1)  "
   ]
  },
  {
   "cell_type": "code",
   "execution_count": 692,
   "id": "tropical-grenada",
   "metadata": {},
   "outputs": [],
   "source": [
    "from nltk.tokenize.toktok import ToktokTokenizer\n",
    "#Tokenization of text\n",
    "tokenizer=ToktokTokenizer()\n",
    "#Setting English stopwords\n",
    "stopword_list=nltk.corpus.stopwords.words('english')"
   ]
  },
  {
   "cell_type": "code",
   "execution_count": 693,
   "id": "cardiovascular-denial",
   "metadata": {},
   "outputs": [],
   "source": [
    "#Removing the html strips\n",
    "def strip_html(text):\n",
    "    soup = BeautifulSoup(text,\"html.parser\")\n",
    "    return soup.get_text()\n",
    "\n",
    "#Removing the square brackets\n",
    "def remove_between_square_brackets(text):\n",
    "    return re.sub('\\[[^]]*\\]','', text)\n",
    "\n",
    "#Removing the noisy text\n",
    "def denoise_text(text):\n",
    "    text = strip_html(text)\n",
    "    text = remove_between_square_brackets(text)\n",
    "    return text"
   ]
  },
  {
   "cell_type": "code",
   "execution_count": 694,
   "id": "smoking-shaft",
   "metadata": {},
   "outputs": [],
   "source": [
    "from bs4 import BeautifulSoup\n",
    "import re\n",
    "#Apply function on review column\n",
    "for index,comment in enumerate(train_texts):\n",
    "    train_texts[index] = denoise_text(comment)\n",
    "    \n",
    "for index,comment in enumerate(test_texts):\n",
    "    test_texts[index] = denoise_text(comment)"
   ]
  },
  {
   "cell_type": "code",
   "execution_count": 695,
   "id": "worth-devices",
   "metadata": {},
   "outputs": [],
   "source": [
    "#Define function for removing special characters\n",
    "def remove_special_characters(text, remove_digits=True):\n",
    "    text=re.sub(r'[\\n\\r\\t]','',text)\n",
    "    text=re.sub(r'[^a-zA-Z0-9\\s]','',text)\n",
    "    return text\n",
    "\n",
    "#Apply function on review column\n",
    "for index,comment in enumerate(train_texts):\n",
    "    train_texts[index] = remove_special_characters(comment)\n",
    "    \n",
    "for index,comment in enumerate(test_texts):\n",
    "    test_texts[index] = remove_special_characters(comment)\n",
    "    "
   ]
  },
  {
   "cell_type": "code",
   "execution_count": 696,
   "id": "radio-bibliography",
   "metadata": {},
   "outputs": [],
   "source": [
    "#lemmatizing the text\n",
    "def simple_lemmatizer(text):\n",
    "    wordnet_lemmatizer = WordNetLemmatizer()\n",
    "    text= ' '.join([wordnet_lemmatizer.lemmatize(word) for word in text.split()])\n",
    "    return text\n",
    "#Apply function on review column\n",
    "for index,comment in enumerate(train_texts):\n",
    "    train_texts[index] = simple_lemmatizer(comment)\n",
    "    \n",
    "for index,comment in enumerate(test_texts):\n",
    "    test_texts[index] = simple_lemmatizer(comment)"
   ]
  },
  {
   "cell_type": "code",
   "execution_count": 697,
   "id": "insured-magic",
   "metadata": {},
   "outputs": [],
   "source": [
    "#Stemming the text\n",
    "def simple_stemmer(text):\n",
    "    ps=nltk.porter.PorterStemmer()\n",
    "    text= ' '.join([ps.stem(word) for word in text.split()])\n",
    "    return text\n",
    "#Apply function on review column\n",
    "for index,comment in enumerate(train_texts):\n",
    "    train_texts[index] = simple_stemmer(comment)\n",
    "    \n",
    "for index,comment in enumerate(test_texts):\n",
    "    test_texts[index] = simple_stemmer(comment)"
   ]
  },
  {
   "cell_type": "code",
   "execution_count": 698,
   "id": "logical-grove",
   "metadata": {},
   "outputs": [],
   "source": [
    "#set stopwords to english\n",
    "stop=set(stopwords.words('english'))\n",
    "\n",
    "#removing the stopwords\n",
    "def remove_stopwords(text, is_lower_case=False):\n",
    "    tokens = tokenizer.tokenize(text)\n",
    "    tokens = [token.strip() for token in tokens]\n",
    "    if is_lower_case:\n",
    "        filtered_tokens = [token for token in tokens if token not in stopword_list]\n",
    "    else:\n",
    "        filtered_tokens = [token for token in tokens if token.lower() not in stopword_list]\n",
    "    filtered_text = ' '.join(filtered_tokens)    \n",
    "    return filtered_text\n",
    "#Apply function on review column\n",
    "for index,comment in enumerate(train_texts):\n",
    "    train_texts[index] = remove_stopwords(comment)\n",
    "    \n",
    "for index,comment in enumerate(test_texts):\n",
    "    test_texts[index] = remove_stopwords(comment)"
   ]
  },
  {
   "cell_type": "code",
   "execution_count": 699,
   "id": "stopped-davis",
   "metadata": {},
   "outputs": [
    {
     "name": "stdout",
     "output_type": "stream",
     "text": [
      "BOW_train: (25000, 75)\n",
      "BOW_test: (25000, 75)\n"
     ]
    }
   ],
   "source": [
    "#Count vectorizer for bag of words\n",
    "bag=CountVectorizer(min_df=0.15,max_df=0.5,binary=False,ngram_range=(1,3))\n",
    "#transformed train reviews\n",
    "bow_train_reviews=bag.fit_transform(train_texts)\n",
    "#transformed test reviews\n",
    "bow_test_reviews=bag.transform(test_texts)\n",
    "\n",
    "print('BOW_train:',bow_train_reviews.shape)\n",
    "print('BOW_test:',bow_test_reviews.shape)"
   ]
  },
  {
   "cell_type": "code",
   "execution_count": 700,
   "id": "ethical-jurisdiction",
   "metadata": {},
   "outputs": [
    {
     "name": "stdout",
     "output_type": "stream",
     "text": [
      "Tfidf_train: (25000, 75)\n",
      "Tfidf_test: (25000, 75)\n"
     ]
    }
   ],
   "source": [
    "#Tfidf vectorizer\n",
    "Tfidf=TfidfVectorizer(min_df=0.15,max_df=0.5,use_idf=True,ngram_range=(1,3))\n",
    "#transformed train reviews\n",
    "Tfidf_train_reviews=Tfidf.fit_transform(train_texts)\n",
    "#transformed test reviews\n",
    "Tfidf_test_reviews=Tfidf.transform(test_texts)\n",
    "\n",
    "print('Tfidf_train:',Tfidf_train_reviews.shape)\n",
    "print('Tfidf_test:',Tfidf_test_reviews.shape)"
   ]
  },
  {
   "cell_type": "code",
   "execution_count": 701,
   "id": "equivalent-brick",
   "metadata": {},
   "outputs": [
    {
     "name": "stdout",
     "output_type": "stream",
     "text": [
      "(25000, 1)\n",
      "(25000, 1)\n"
     ]
    }
   ],
   "source": [
    "#labeling the sentient data\n",
    "lb=LabelBinarizer()\n",
    "#transformed sentiment data\n",
    "train_labels_data=lb.fit_transform(train_labels)\n",
    "test_labels_data=lb.fit_transform(test_labels)\n",
    "\n",
    "print(train_labels_data.shape)\n",
    "print(test_labels_data.shape)"
   ]
  },
  {
   "cell_type": "code",
   "execution_count": 702,
   "id": "spatial-astronomy",
   "metadata": {},
   "outputs": [
    {
     "name": "stdout",
     "output_type": "stream",
     "text": [
      "0.73528\n",
      "0.73592\n"
     ]
    }
   ],
   "source": [
    "from sklearn import linear_model\n",
    "\n",
    "reg = linear_model.LogisticRegression()\n",
    "lr_bow_train = reg.fit(bow_train_reviews,train_labels)\n",
    "lr_bow_predict=reg.predict(bow_test_reviews)\n",
    "lr_tfidf_train = reg.fit(Tfidf_train_reviews,train_labels)\n",
    "lr_tfidf_predict=reg.predict(Tfidf_test_reviews)\n",
    "\n",
    "print(accuracy_score(test_labels,lr_tfidf_predict))\n",
    "print(accuracy_score(test_labels,lr_bow_predict))"
   ]
  },
  {
   "cell_type": "code",
   "execution_count": null,
   "id": "previous-classroom",
   "metadata": {},
   "outputs": [],
   "source": [
    "from sklearn.neighbors import KNeighborsClassifier\n",
    "\n",
    "knn = KNeighborsClassifier()\n",
    "knn_bow_train = knn.fit(bow_train_reviews,train_labels)\n",
    "knn_bow_predict = knn.predict(bow_test_reviews)\n",
    "knn_tfidf_train = knn.fit(Tfidf_train_reviews,train_labels)\n",
    "knn_tfidf_predict = knn.predict(Tfidf_test_reviews)\n",
    "\n",
    "print(accuracy_score(test_labels,knn_tfidf_predict))\n",
    "print(accuracy_score(test_labels,knn_bow_predict))"
   ]
  },
  {
   "cell_type": "code",
   "execution_count": null,
   "id": "sacred-brush",
   "metadata": {},
   "outputs": [],
   "source": []
  }
 ],
 "metadata": {
  "kernelspec": {
   "display_name": "Python 3",
   "language": "python",
   "name": "python3"
  },
  "language_info": {
   "codemirror_mode": {
    "name": "ipython",
    "version": 3
   },
   "file_extension": ".py",
   "mimetype": "text/x-python",
   "name": "python",
   "nbconvert_exporter": "python",
   "pygments_lexer": "ipython3",
   "version": "3.8.10"
  }
 },
 "nbformat": 4,
 "nbformat_minor": 5
}
